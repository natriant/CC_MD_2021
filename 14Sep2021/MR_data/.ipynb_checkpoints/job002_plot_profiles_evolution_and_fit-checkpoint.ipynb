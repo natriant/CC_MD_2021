{
 "cells": [
  {
   "cell_type": "code",
   "execution_count": 1,
   "metadata": {},
   "outputs": [],
   "source": [
    "from utils.MR import *\n",
    "from datetime import datetime\n",
    "import glob\n",
    "import sdds\n",
    "import matplotlib.pyplot as plt"
   ]
  },
  {
   "cell_type": "code",
   "execution_count": 3,
   "metadata": {},
   "outputs": [],
   "source": [
    "# Plotting parameters\n",
    "params = {'legend.fontsize': 20,\n",
    "          'figure.figsize': (8, 7),\n",
    "          'axes.labelsize': 25,\n",
    "          'axes.titlesize': 21,\n",
    "          'xtick.labelsize': 23,\n",
    "          'ytick.labelsize': 23,\n",
    "          'image.cmap': 'jet',\n",
    "          'lines.linewidth': 3,\n",
    "          'lines.markersize': 10,\n",
    "          'font.family': 'sans-serif'}\n",
    "\n",
    "\n",
    "plt.rc('text', usetex=False)\n",
    "plt.rc('font', family='serif')\n",
    "plt.rcParams.update(params)\n",
    "plt.ion()"
   ]
  },
  {
   "cell_type": "code",
   "execution_count": 4,
   "metadata": {},
   "outputs": [],
   "source": [
    "def get_average_profile(my_profiles_amp): #  from utils/MR.py\n",
    "    average_profile = np.mean(my_profiles_amp, axis=0) \n",
    "    baseline = np.mean(average_profile[0:20]) \n",
    "    average_profile -= baseline\n",
    "    return average_profile"
   ]
  },
  {
   "cell_type": "code",
   "execution_count": 5,
   "metadata": {},
   "outputs": [],
   "source": [
    "path2files='SMR.SCOPE13.CH01@Acquisition/' # path to MR data, they should be unziped (.sdds)\n",
    "files_list = sorted(glob.glob(path2files+'*')) # create a list with all the MR data\n"
   ]
  },
  {
   "cell_type": "code",
   "execution_count": 6,
   "metadata": {},
   "outputs": [],
   "source": [
    "mr_overview = pickle.load(open('mr_overview.pkl', 'rb'))\n",
    "sigma_t = mr_overview['LHCMD4']['sigma_t']"
   ]
  },
  {
   "cell_type": "code",
   "execution_count": null,
   "metadata": {},
   "outputs": [],
   "source": [
    "for i, my_file in enumerate(files_list[120:287]):  # [120:290] Acquisitions that correspond to the time of the emittance growth measurements. [120:287] chosen to analyse exactly 1h of measurements.\n",
    "# Index : 287 to be exactly 1h of measurements (real time up to 290)\n",
    "\n",
    "    sdds_data = sdds.read(my_file)\n",
    "    profiles_amp =  sdds_data.values['value']\n",
    "    triggerStamps = sdds_data.values['triggerStamp']\n",
    "    start_str = str(datetime.fromtimestamp(triggerStamps [10]/1e9))\n",
    "    end_str = str(datetime.fromtimestamp(triggerStamps [-1]/1e9))\n",
    "    \n",
    "    average_profile = get_average_profile(profiles_amp)\n",
    "    \n",
    "    time_axis = np.float_(range(profiles_amp.shape[1]))*sdds_data.values['sampleInterval']-profiles_amp.shape[1]*sdds_data.values['sampleInterval']/2.\n",
    "    \n",
    "    \n",
    "    # Get difference between two datetimes in milliseconds\n",
    "    date_format_str = '%Y-%m-%d %H:%M:%S.%f'\n",
    "    start = datetime.strptime(start_str, date_format_str)\n",
    "    end =   datetime.strptime(end_str, date_format_str)\n",
    "    # Get the interval between two datetimes as timedelta object\n",
    "    diff = end - start\n",
    "    # Get the interval in milliseconds\n",
    "    diff_in_milli_secs = diff.total_seconds() * 1000\n",
    "    \n",
    "    my_title = start_str[:19] # Y-M-D-H-M-S\n",
    "    fig, ax = plt.subplots()\n",
    "    ax.plot(time_axis, average_profile, c='g', label= f'average profile over {diff_in_milli_secs:.2f} [ms] \\n'+   r'$\\mathrm{4\\sigma_t}$'+f'={4*sigma_t[i]:.2} [ns]')  \n",
    "    ax.plot(-50,0, c='g', )\n",
    "    \n",
    "    ax.set_xlim(-10, 10)\n",
    "    ax.set_ylim(-20, 6000)\n",
    "    \n",
    "    ax.set_title(f'{my_title}')\n",
    "    ax.set_ylabel('Amplitude [a.u.]') # Maybe in Volts\n",
    "    ax.set_xlabel('Time [ns]') # Not entirely sure that is time in [ns]\n",
    "    ax.legend(loc=2, frameon=False)\n",
    "    ax.grid(ls='--')\n",
    "    \n",
    "    \n",
    "    \n",
    "    plt.tight_layout()\n",
    "    plt.savefig(f'./figures/profiles/profiles_{my_title}.png', bbox_inches='tight')\n",
    "    plt.close()"
   ]
  },
  {
   "cell_type": "code",
   "execution_count": null,
   "metadata": {},
   "outputs": [],
   "source": []
  },
  {
   "cell_type": "code",
   "execution_count": null,
   "metadata": {},
   "outputs": [],
   "source": []
  }
 ],
 "metadata": {
  "kernelspec": {
   "display_name": "Python 3",
   "language": "python",
   "name": "python3"
  },
  "language_info": {
   "codemirror_mode": {
    "name": "ipython",
    "version": 3
   },
   "file_extension": ".py",
   "mimetype": "text/x-python",
   "name": "python",
   "nbconvert_exporter": "python",
   "pygments_lexer": "ipython3",
   "version": "3.7.3"
  }
 },
 "nbformat": 4,
 "nbformat_minor": 4
}

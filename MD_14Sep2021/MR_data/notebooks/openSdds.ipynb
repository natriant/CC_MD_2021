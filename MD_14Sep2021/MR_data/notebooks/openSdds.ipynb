{
 "cells": [
  {
   "cell_type": "code",
   "execution_count": 98,
   "metadata": {},
   "outputs": [],
   "source": [
    "import sdds\n",
    "import glob\n",
    "import matplotlib.pyplot as plt\n",
    "from datetime import datetime\n",
    "import time"
   ]
  },
  {
   "cell_type": "code",
   "execution_count": 73,
   "metadata": {},
   "outputs": [],
   "source": [
    "path2files = './SMR.SCOPE13.CH01@Acquisition/'"
   ]
  },
  {
   "cell_type": "code",
   "execution_count": 74,
   "metadata": {},
   "outputs": [],
   "source": [
    "files_list = sorted(glob.glob(path2files+'*'))"
   ]
  },
  {
   "cell_type": "code",
   "execution_count": 75,
   "metadata": {},
   "outputs": [
    {
     "name": "stdout",
     "output_type": "stream",
     "text": [
      "./SMR.SCOPE13.CH01@Acquisition/SMR.SCOPE13.CH01@Acquisition@21_32_07_346@1631647927335000000@SPS.USER.LHCMD4.sdds\n"
     ]
    }
   ],
   "source": [
    "my_file = files_list[0]\n",
    "print(my_file)\n",
    "sdds_data = sdds.read(my_file)"
   ]
  },
  {
   "cell_type": "code",
   "execution_count": 89,
   "metadata": {},
   "outputs": [
    {
     "data": {
      "text/plain": [
       "{'sampleInterval': 0.25,\n",
       " 'firstSampleTime': -10.0,\n",
       " 'cycleTag': 23553,\n",
       " 'offset': -0.0,\n",
       " 'CTime': 11,\n",
       " 'diffStamps': 11021199,\n",
       " 'SCNumber': 14,\n",
       " 'sensitivity': 7.629511e-05,\n",
       " 'triggerDistLatency': 0.0,\n",
       " 'value_units': 'V',\n",
       " 'triggerError': array([-0.24588057, -0.1963089 , -0.09634668, -0.13697405, -0.04708995,\n",
       "        -0.222323  , -0.20752078, -0.09244142, -0.10837743, -0.2478332 ,\n",
       "        -0.23857395, -0.24392794, -0.15404384, -0.10951121, -0.03424036,\n",
       "        -0.24978584, -0.23548754, -0.15013857, -0.16103552, -0.05603427,\n",
       "        -0.01099773, -0.206387  , -0.2021668 , -0.14705215, -0.03701184,\n",
       "        -0.12853363, -0.00791131, -0.18818343, -0.1738851 , -0.07845805,\n",
       "        -0.05408163, -0.01408415, -0.24978584, -0.18005794, -0.09470899,\n",
       "        -0.12576215, -0.03587805, -0.16525573, -0.23158227, -0.09634668,\n",
       "        -0.13697405, -0.04205089, -0.1920887 , -0.19744268, -0.12267574,\n",
       "        -0.15876795, -0.02806752, -0.05912068, -0.21873268, -0.11877047]),\n",
       " 'triggerStamp': array([1631647927346021199, 1631647927346044253, 1631647927346067308,\n",
       "        1631647927346090363, 1631647927346113417, 1631647927346136472,\n",
       "        1631647927346159527, 1631647927346182581, 1631647927346205636,\n",
       "        1631647927346228691, 1631647927346251746, 1631647927346274800,\n",
       "        1631647927346297855, 1631647927346320910, 1631647927346343964,\n",
       "        1631647927346367019, 1631647927346390074, 1631647927346413129,\n",
       "        1631647927346436183, 1631647927346459238, 1631647927346482293,\n",
       "        1631647927346505347, 1631647927346528402, 1631647927346551457,\n",
       "        1631647927346574511, 1631647927346597566, 1631647927346620621,\n",
       "        1631647927346643676, 1631647927346666730, 1631647927346689785,\n",
       "        1631647927346712840, 1631647927346735894, 1631647927346758949,\n",
       "        1631647927346782004, 1631647927346805058, 1631647927346828113,\n",
       "        1631647927346851168, 1631647927346874223, 1631647927346897277,\n",
       "        1631647927346920332, 1631647927346943387, 1631647927346966441,\n",
       "        1631647927346989496, 1631647927347012551, 1631647927347035606,\n",
       "        1631647927347058660, 1631647927347081715, 1631647927347104770,\n",
       "        1631647927347127824, 1631647927347150879]),\n",
       " 'value': array([[-256,    0,  256, ...,    0,    0,    0],\n",
       "        [   0,  256,    0, ...,  512,    0,  256],\n",
       "        [-256,  256,  256, ...,  512,    0,  256],\n",
       "        ...,\n",
       "        [   0, -256,    0, ...,  256,  256,    0],\n",
       "        [   0,    0,    0, ...,  512,    0,  256],\n",
       "        [ 256,  256,  256, ...,    0,  256,    0]])}"
      ]
     },
     "execution_count": 89,
     "metadata": {},
     "output_type": "execute_result"
    }
   ],
   "source": [
    "sdds_data.values\n"
   ]
  },
  {
   "cell_type": "code",
   "execution_count": 79,
   "metadata": {},
   "outputs": [],
   "source": [
    "timeStamps = sdds_data['triggerStamp'][1] # 50 acquisitions at 21.32.07\n",
    "values_voltage = sdds_data['value'][1]"
   ]
  },
  {
   "cell_type": "code",
   "execution_count": null,
   "metadata": {},
   "outputs": [],
   "source": []
  }
 ],
 "metadata": {
  "kernelspec": {
   "display_name": "Python 3",
   "language": "python",
   "name": "python3"
  },
  "language_info": {
   "codemirror_mode": {
    "name": "ipython",
    "version": 3
   },
   "file_extension": ".py",
   "mimetype": "text/x-python",
   "name": "python",
   "nbconvert_exporter": "python",
   "pygments_lexer": "ipython3",
   "version": "3.7.3"
  }
 },
 "nbformat": 4,
 "nbformat_minor": 4
}

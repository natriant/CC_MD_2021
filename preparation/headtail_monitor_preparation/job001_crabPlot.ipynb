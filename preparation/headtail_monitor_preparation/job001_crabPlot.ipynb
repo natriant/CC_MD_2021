{
 "cells": [
  {
   "cell_type": "code",
   "execution_count": 1,
   "metadata": {},
   "outputs": [],
   "source": [
    "# Baseline: the man of all traces (delta signal) is calculated and subtracted from each trace."
   ]
  },
  {
   "cell_type": "code",
   "execution_count": 1,
   "metadata": {},
   "outputs": [],
   "source": [
    "import glob\n",
    "from headtail.modules import bqht\n",
    "import matplotlib.pyplot as plt\n",
    "import matplotlib as mpl\n",
    "import numpy as np"
   ]
  },
  {
   "cell_type": "code",
   "execution_count": 2,
   "metadata": {},
   "outputs": [],
   "source": [
    "# Create a new instance ands set the system to SPS\n",
    "ht = bqht.BQHT(system='SPS')\n",
    "# Select a file to use\n",
    "dataDir = './h5_files/28May2018/'\n",
    "files = sorted(glob.glob(dataDir+'/*.h5'))"
   ]
  },
  {
   "cell_type": "code",
   "execution_count": 3,
   "metadata": {},
   "outputs": [
    {
     "data": {
      "text/plain": [
       "['./h5_files/28May2018/SPS.BQHT_LHC2_20180523_170239.h5']"
      ]
     },
     "execution_count": 3,
     "metadata": {},
     "output_type": "execute_result"
    }
   ],
   "source": [
    "files"
   ]
  },
  {
   "cell_type": "code",
   "execution_count": 4,
   "metadata": {},
   "outputs": [],
   "source": [
    "def prep_file(name):\n",
    "    htf = ht.open_file(f'{name}')\n",
    "    htf.locate_bunches()\n",
    "    htf.optimise_overlap()\n",
    "    htf.remove_baseline = False # Don't remove baseline\n",
    "    htf.align = True            # Get aligned to the same X points\n",
    "    return htf"
   ]
  },
  {
   "cell_type": "code",
   "execution_count": 5,
   "metadata": {},
   "outputs": [],
   "source": [
    "# Create a new instance ands set the system to SPS\n",
    "ht = bqht.BQHT(system='SPS')\n",
    "# Select a file to use\n",
    "dataDir = './h5_files/28May2018/'\n",
    "files = sorted(glob.glob(dataDir+'/*.h5'))\n",
    "name = files[0]"
   ]
  },
  {
   "cell_type": "code",
   "execution_count": 6,
   "metadata": {},
   "outputs": [],
   "source": [
    "htf_0 = prep_file(files[0])  # stracture: htf_0.data.horizontal.delta[turns, bunches]['time', 'value']"
   ]
  },
  {
   "cell_type": "code",
   "execution_count": null,
   "metadata": {},
   "outputs": [],
   "source": [
    "htf_0"
   ]
  },
  {
   "cell_type": "code",
   "execution_count": null,
   "metadata": {},
   "outputs": [],
   "source": []
  },
  {
   "cell_type": "code",
   "execution_count": null,
   "metadata": {},
   "outputs": [],
   "source": []
  },
  {
   "cell_type": "code",
   "execution_count": 18,
   "metadata": {},
   "outputs": [],
   "source": [
    "def string2unix(s):\n",
    "    return time.mktime(datetime.datetime.strptime(s, \"%Y-%m-%d %H:%M:%S.%f\").timetuple())\n",
    "\n",
    "def unix2string(f):\n",
    "    return datetime.datetime.fromtimestamp(int(f)).strftime('%Y-%m-%d %H:%M:%S.%f')\n",
    "\n",
    "\n",
    "def prep_file(name):\n",
    "    htf = ht.open_file(f'{name}')\n",
    "    htf.locate_bunches()\n",
    "    htf.optimise_overlap()\n",
    "    for p, s in htf.planes_signals:\n",
    "        htf[p][s].remove_baseline = False # Don't remove baseline\n",
    "        htf[p][s].align = True            # Get aligned to the same X points\n",
    "    return htf\n",
    "\n",
    "\n",
    "def calc_means(htf, N):\n",
    "    pts = int(htf.horizontal.sigma.samples_per_bunch)\n",
    "    M = int(htf.horizontal.sigma.number_of_turns/N)\n",
    "    means_delta = []\n",
    "    means_sigma = []\n",
    "    for i in range(N):\n",
    "        mean_delta = np.zeros(pts)\n",
    "        mean_sigma = np.zeros(pts)\n",
    "        for j in range(M):\n",
    "            x, y = htf.vertical.sigma[i*M+j,0]\n",
    "            mean_sigma += y\n",
    "            x, y = htf.vertical.delta[i*M+j,0]\n",
    "            mean_delta += y\n",
    "        mean_delta /= M\n",
    "        mean_sigma /= M\n",
    "        means_delta.append(mean_delta)\n",
    "        means_sigma.append(mean_sigma)\n",
    "    return (np.array(means_sigma), np.array(means_delta))\n",
    "\n",
    "\n",
    "def getOrbitResponse():\n",
    "    # Bring in relevant optics parameters to calculate orbit response\n",
    "    # at location of HT monitor from CC kick\n",
    "\n",
    "    PAY = 8.230968*(2*np.pi) #Slide 16 of Hannes' JUAS\n",
    "    beta_cc = 64.776662\n",
    "    beta_ht = 49.434524\n",
    "    total_Q = 26.18\n",
    "\n",
    "    orbitResponse1 = np.sqrt(beta_ht)/(2*np.sin(np.pi*total_Q)) #slide 42 of Hannes' JUAS\n",
    "    orbitResponse2 = np.sqrt(beta_cc)*np.cos(np.pi*total_Q - PAY)\n",
    "    orbitResponse = orbitResponse1*orbitResponse2\n",
    "    return orbitResponse\n",
    "\n",
    "\n",
    "\n",
    "def getHTtraces(sigma, delta):\n",
    "    \n",
    "    mid = np.argmax(sigma[-1])\n",
    "    a = mid - 12\n",
    "    b = mid + 13\n",
    "\n",
    "    #plot(x, sigma[-1][a:b] * 8 - 0.4, c=color, ls=linestyle)\n",
    "    #calculate amplitude scaling factor to ensure result is in MV (from mm)\n",
    "\n",
    "    normPositionFactor = 0.1052 #This factor comes from T. Levens and was measured in 2017\n",
    "    amp_factor = 1/(normPositionFactor)      #1e-6 is for V to MV\n",
    "    \n",
    "    signal = (delta[-1] - delta[0])[a:b] / sigma[-1][a:b]\n",
    "    return signal*amp_factor, sigma[-1][a:b]\n",
    "\n",
    "def yGauss(x):\n",
    "    sig = 2.22 #mm\n",
    "    intensity = 1\n",
    "    return intensity/(sig*np.sqrt(2*np.pi))*np.exp(-x*x/(2*sig*sig))\n",
    "\n",
    "def gauss(x, *p):\n",
    "    A, mu, sigma = p\n",
    "    return A*np.exp(-(x-mu)**2/(2.*sigma**2))\n",
    "\n"
   ]
  },
  {
   "cell_type": "code",
   "execution_count": 88,
   "metadata": {},
   "outputs": [],
   "source": [
    "htf_0 = prep_file(files[0])  "
   ]
  },
  {
   "cell_type": "code",
   "execution_count": 89,
   "metadata": {},
   "outputs": [
    {
     "data": {
      "text/plain": [
       "<BQHTDataset: horizontal.delta>"
      ]
     },
     "execution_count": 89,
     "metadata": {},
     "output_type": "execute_result"
    }
   ],
   "source": [
    "# htf_0.horizontal.delta [turns][bunhches]"
   ]
  },
  {
   "cell_type": "code",
   "execution_count": 39,
   "metadata": {},
   "outputs": [],
   "source": [
    "N=1\n",
    "\n",
    "sigma_0, delta_0 = calc_means(htf_0, N)"
   ]
  },
  {
   "cell_type": "code",
   "execution_count": null,
   "metadata": {},
   "outputs": [],
   "source": [
    "htf['']"
   ]
  },
  {
   "cell_type": "code",
   "execution_count": 78,
   "metadata": {},
   "outputs": [
    {
     "data": {
      "text/plain": [
       "[<matplotlib.lines.Line2D at 0x7fe3d9db3550>]"
      ]
     },
     "execution_count": 78,
     "metadata": {},
     "output_type": "execute_result"
    },
    {
     "data": {
      "image/png": "[encoded data removed]",
      "text/plain": [
       "<Figure size 432x288 with 1 Axes>"
      ]
     },
     "metadata": {
      "needs_background": "light"
     },
     "output_type": "display_data"
    }
   ],
   "source": [
    "plt.plot(htf_0.vertical.delta[1][1])"
   ]
  },
  {
   "cell_type": "code",
   "execution_count": 76,
   "metadata": {},
   "outputs": [
    {
     "data": {
      "text/plain": [
       "249.5887445887446"
      ]
     },
     "execution_count": 76,
     "metadata": {},
     "output_type": "execute_result"
    }
   ],
   "source": [
    "htf_0.vertical.delta.samples_per_bunch"
   ]
  },
  {
   "cell_type": "code",
   "execution_count": 79,
   "metadata": {},
   "outputs": [
    {
     "ename": "NameError",
     "evalue": "name 'htf' is not defined",
     "output_type": "error",
     "traceback": [
      "\u001b[0;31m---------------------------------------------------------------------------\u001b[0m",
      "\u001b[0;31mNameError\u001b[0m                                 Traceback (most recent call last)",
      "\u001b[0;32m<ipython-input-79-b75c0eac0ca3>\u001b[0m in \u001b[0;36m<module>\u001b[0;34m\u001b[0m\n\u001b[0;32m----> 1\u001b[0;31m \u001b[0;32mfor\u001b[0m \u001b[0mp\u001b[0m\u001b[0;34m,\u001b[0m \u001b[0ms\u001b[0m \u001b[0;32min\u001b[0m \u001b[0mhtf\u001b[0m\u001b[0;34m.\u001b[0m\u001b[0mplanes_signals\u001b[0m\u001b[0;34m:\u001b[0m\u001b[0;34m\u001b[0m\u001b[0;34m\u001b[0m\u001b[0m\n\u001b[0m\u001b[1;32m      2\u001b[0m     \u001b[0mprint\u001b[0m\u001b[0;34m(\u001b[0m\u001b[0mp\u001b[0m\u001b[0;34m,\u001b[0m\u001b[0ms\u001b[0m\u001b[0;34m)\u001b[0m\u001b[0;34m\u001b[0m\u001b[0;34m\u001b[0m\u001b[0m\n",
      "\u001b[0;31mNameError\u001b[0m: name 'htf' is not defined"
     ]
    }
   ],
   "source": []
  },
  {
   "cell_type": "code",
   "execution_count": 52,
   "metadata": {},
   "outputs": [
    {
     "data": {
      "text/plain": [
       "[<matplotlib.lines.Line2D at 0x7fe3d9e38860>]"
      ]
     },
     "execution_count": 52,
     "metadata": {},
     "output_type": "execute_result"
    },
    {
     "data": {
      "image/png": "[encoded data removed]",
      "text/plain": [
       "<Figure size 432x288 with 1 Axes>"
      ]
     },
     "metadata": {
      "needs_background": "light"
     },
     "output_type": "display_data"
    }
   ],
   "source": [
    "plt.plot(list(delta_0[0]), 'o-')"
   ]
  },
  {
   "cell_type": "code",
   "execution_count": 53,
   "metadata": {},
   "outputs": [
    {
     "data": {
      "text/plain": [
       "[<matplotlib.lines.Line2D at 0x7fe3d9dfaa58>]"
      ]
     },
     "execution_count": 53,
     "metadata": {},
     "output_type": "execute_result"
    },
    {
     "data": {
      "image/png": "[encoded data removed]",
      "text/plain": [
       "<Figure size 432x288 with 1 Axes>"
      ]
     },
     "metadata": {
      "needs_background": "light"
     },
     "output_type": "display_data"
    }
   ],
   "source": [
    "plt.plot(list(sigma_0[0]), 'o-')"
   ]
  },
  {
   "cell_type": "code",
   "execution_count": 21,
   "metadata": {},
   "outputs": [
    {
     "data": {
      "text/plain": [
       "249.5887445887446"
      ]
     },
     "execution_count": 21,
     "metadata": {},
     "output_type": "execute_result"
    }
   ],
   "source": [
    "htf_0.horizontal.sigma.samples_per_bunch"
   ]
  },
  {
   "cell_type": "code",
   "execution_count": 22,
   "metadata": {},
   "outputs": [
    {
     "data": {
      "text/plain": [
       "[0]"
      ]
     },
     "execution_count": 22,
     "metadata": {},
     "output_type": "execute_result"
    }
   ],
   "source": [
    "htf_0.bunches"
   ]
  },
  {
   "cell_type": "code",
   "execution_count": 23,
   "metadata": {},
   "outputs": [
    {
     "data": {
      "text/plain": [
       "4"
      ]
     },
     "execution_count": 23,
     "metadata": {},
     "output_type": "execute_result"
    }
   ],
   "source": [
    "htf_0.horizontal.sigma.number_of_bunches"
   ]
  },
  {
   "cell_type": "code",
   "execution_count": 24,
   "metadata": {},
   "outputs": [
    {
     "data": {
      "text/plain": [
       "40000"
      ]
     },
     "execution_count": 24,
     "metadata": {},
     "output_type": "execute_result"
    }
   ],
   "source": [
    "htf_0.horizontal.sigma.number_of_turns"
   ]
  },
  {
   "cell_type": "code",
   "execution_count": 25,
   "metadata": {},
   "outputs": [
    {
     "data": {
      "text/plain": [
       "1e-10"
      ]
     },
     "execution_count": 25,
     "metadata": {},
     "output_type": "execute_result"
    }
   ],
   "source": [
    "htf_0.horizontal.sigma.period"
   ]
  },
  {
   "cell_type": "code",
   "execution_count": 83,
   "metadata": {},
   "outputs": [
    {
     "name": "stdout",
     "output_type": "stream",
     "text": [
      "horizontal delta\n",
      "<class 'str'>\n",
      "horizontal sigma\n",
      "<class 'str'>\n",
      "vertical delta\n",
      "<class 'str'>\n",
      "vertical sigma\n",
      "<class 'str'>\n"
     ]
    }
   ],
   "source": [
    "htf1 = ht.open_file(f'{files[0]}')\n",
    "for p, s in htf1.planes_signals:\n",
    "    print(p,s)\n",
    "    print(type(p))"
   ]
  },
  {
   "cell_type": "code",
   "execution_count": 31,
   "metadata": {},
   "outputs": [
    {
     "data": {
      "text/plain": [
       "[('horizontal', 'delta'),\n",
       " ('horizontal', 'sigma'),\n",
       " ('vertical', 'delta'),\n",
       " ('vertical', 'sigma')]"
      ]
     },
     "execution_count": 31,
     "metadata": {},
     "output_type": "execute_result"
    }
   ],
   "source": [
    "htf1.planes_signals"
   ]
  },
  {
   "cell_type": "code",
   "execution_count": 37,
   "metadata": {},
   "outputs": [
    {
     "data": {
      "text/plain": [
       "4"
      ]
     },
     "execution_count": 37,
     "metadata": {},
     "output_type": "execute_result"
    }
   ],
   "source": [
    "htf1.horizontal.delta.number_of_bunches"
   ]
  },
  {
   "cell_type": "code",
   "execution_count": 35,
   "metadata": {},
   "outputs": [],
   "source": []
  },
  {
   "cell_type": "code",
   "execution_count": null,
   "metadata": {},
   "outputs": [],
   "source": []
  }
 ],
 "metadata": {
  "kernelspec": {
   "display_name": "Python 3",
   "language": "python",
   "name": "python3"
  },
  "language_info": {
   "codemirror_mode": {
    "name": "ipython",
    "version": 3
   },
   "file_extension": ".py",
   "mimetype": "text/x-python",
   "name": "python",
   "nbconvert_exporter": "python",
   "pygments_lexer": "ipython3",
   "version": "3.7.3"
  }
 },
 "nbformat": 4,
 "nbformat_minor": 4
}
